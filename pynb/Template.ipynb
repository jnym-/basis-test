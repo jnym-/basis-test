{
 "cells": [
  {
   "cell_type": "markdown",
   "metadata": {},
   "source": [
    "<img src=\"imperial_logo.png\" width=\"275\" align=\"left\">\n",
    "<p style=\"text-align: right\">\n",
    "    Created by John Doe<br>Email: jd14@ic.ac.uk<br><a>HTML Version (This will be a link)</a>\n",
    "</p>\n",
    "<br>\n",
    "# Lesson Title (H1)\n",
    "\n",
    "\n",
    "## Learning Objectives (H2)\n",
    "* Enter your learning objectives in unordered list form using an asterisk (\\*).\n",
    "* Keep this section concise, details can come later on.\n",
    "* To write text and not code, change cell type to markdown. Markdown is a language to format plain text. It's similar to HTML in a lot of ways.\n",
    "* For an intro/cheatsheet to markdown, I found this site to be pretty good: <a href=\"https://github.com/adam-p/markdown-here/wiki/Markdown-Cheatsheet#lists\">Click Here</a>\n",
    "\n",
    "## Table of Contents (H2)\n",
    "1. Introduction <-- Number your table of contents\n",
    "2. Adding Extra Stuff\n",
    "    1. Code <-- Indent for subsections\n",
    "    2. Images\n",
    "    \n",
    "<b>Ensure that this section is all visible on your computer screen, students shouldn't have to scroll down to see the Learning Objectives and Table of Contents.</b>"
   ]
  },
  {
   "cell_type": "markdown",
   "metadata": {},
   "source": [
    "## 1. Introduction (H1)\n",
    "Give a short introduction/abstract to the topic. It would be good to introduce any special notation used here as well."
   ]
  },
  {
   "cell_type": "markdown",
   "metadata": {},
   "source": [
    "## 2. Adding Extra Stuff (H2)\n",
    "Again a sentence or two for the start of each section outlining what is inside. "
   ]
  },
  {
   "cell_type": "markdown",
   "metadata": {},
   "source": [
    "### 2.A. Code (H3)\n",
    "Any code written should be in a code cell on the notebook but if you want to be able to highlight any function names in your markdown cells use back ticks (  \\`  ).\n",
    "e.g. Check out my function `foo()`."
   ]
  },
  {
   "cell_type": "code",
   "execution_count": null,
   "metadata": {
    "collapsed": true
   },
   "outputs": [],
   "source": [
    "# Ensure you label all your code as clearly as possible\n",
    "def foo():\n",
    "    print(\"Hello World\")\n",
    "\n",
    "# Call foo()\n",
    "foo()"
   ]
  },
  {
   "cell_type": "markdown",
   "metadata": {},
   "source": [
    "### 2.B. Images (H3)\n",
    "To add an image simply use the `<img>` tag and give the relative path using `src=\"relative_path\"`"
   ]
  },
  {
   "cell_type": "markdown",
   "metadata": {
    "collapsed": true
   },
   "source": []
  }
 ],
 "metadata": {
  "kernelspec": {
   "display_name": "Python 3",
   "language": "python",
   "name": "python3"
  },
  "language_info": {
   "codemirror_mode": {
    "name": "ipython",
    "version": 3
   },
   "file_extension": ".py",
   "mimetype": "text/x-python",
   "name": "python",
   "nbconvert_exporter": "python",
   "pygments_lexer": "ipython3",
   "version": "3.6.2"
  }
 },
 "nbformat": 4,
 "nbformat_minor": 2
}
